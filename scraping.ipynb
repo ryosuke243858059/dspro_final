{
 "cells": [
  {
   "cell_type": "code",
   "execution_count": 45,
   "metadata": {},
   "outputs": [],
   "source": [
    "from bs4 import BeautifulSoup\n",
    "import requests"
   ]
  },
  {
   "cell_type": "code",
   "execution_count": 46,
   "metadata": {},
   "outputs": [],
   "source": [
    "url = 'https://www.twr.co.jp/route/tabid/119/Default.aspx'\n",
    "r = requeｓts.get(url)"
   ]
  },
  {
   "cell_type": "code",
   "execution_count": 47,
   "metadata": {},
   "outputs": [
    {
     "name": "stdout",
     "output_type": "stream",
     "text": [
      "<class 'bs4.BeautifulSoup'>\n"
     ]
    }
   ],
   "source": [
    "html_soup = BeautifulSoup(r.text,'html.parser')\n",
    "print(type(html_soup))"
   ]
  },
  {
   "cell_type": "code",
   "execution_count": 52,
   "metadata": {},
   "outputs": [
    {
     "name": "stdout",
     "output_type": "stream",
     "text": [
      "5\n",
      "42\n",
      "6\n",
      "8\n",
      "21\n",
      "32\n",
      "49\n",
      "58\n",
      "7\n",
      "3\n",
      "11\n",
      "19\n",
      "26\n",
      "31\n",
      "37\n",
      "42\n",
      "49\n",
      "55\n",
      "8\n",
      "1\n",
      "6\n",
      "13\n",
      "19\n",
      "26\n"
     ]
    }
   ],
   "source": [
    "a1_list = ['#dnn_ctr1053_ViewTabs_ctr1070_ModuleContent > div > table > tbody > tr:nth-child(1) > th:nth-child(1)','#dnn_ctr1053_ViewTabs_ctr1070_ModuleContent > div > table > tbody > tr:nth-child(1) > td > a','#dnn_ctr1053_ViewTabs_ctr1070_ModuleContent > div > table > tbody > tr:nth-child(2) > th:nth-child(1)','#dnn_ctr1053_ViewTabs_ctr1070_ModuleContent > div > table > tbody > tr:nth-child(2) > td > a:nth-child(1)','#dnn_ctr1053_ViewTabs_ctr1070_ModuleContent > div > table > tbody > tr:nth-child(2) > td > a:nth-child(2)','#dnn_ctr1053_ViewTabs_ctr1070_ModuleContent > div > table > tbody > tr:nth-child(2) > td > a:nth-child(3)','#dnn_ctr1053_ViewTabs_ctr1070_ModuleContent > div > table > tbody > tr:nth-child(2) > td > a:nth-child(4)','#dnn_ctr1053_ViewTabs_ctr1070_ModuleContent > div > table > tbody > tr:nth-child(2) > td > a:nth-child(5)','#dnn_ctr1053_ViewTabs_ctr1070_ModuleContent > div > table > tbody > tr:nth-child(3) > th:nth-child(1)','#dnn_ctr1053_ViewTabs_ctr1070_ModuleContent > div > table > tbody > tr:nth-child(3) > td > a:nth-child(1)','#dnn_ctr1053_ViewTabs_ctr1070_ModuleContent > div > table > tbody > tr:nth-child(3) > td > a:nth-child(2)','#dnn_ctr1053_ViewTabs_ctr1070_ModuleContent > div > table > tbody > tr:nth-child(3) > td > a:nth-child(3)','#dnn_ctr1053_ViewTabs_ctr1070_ModuleContent > div > table > tbody > tr:nth-child(3) > td > a:nth-child(4)','#dnn_ctr1053_ViewTabs_ctr1070_ModuleContent > div > table > tbody > tr:nth-child(3) > td > a:nth-child(5)','#dnn_ctr1053_ViewTabs_ctr1070_ModuleContent > div > table > tbody > tr:nth-child(3) > td > a:nth-child(6)','#dnn_ctr1053_ViewTabs_ctr1070_ModuleContent > div > table > tbody > tr:nth-child(3) > td > a:nth-child(7)','#dnn_ctr1053_ViewTabs_ctr1070_ModuleContent > div > table > tbody > tr:nth-child(3) > td > a:nth-child(8)','#dnn_ctr1053_ViewTabs_ctr1070_ModuleContent > div > table > tbody > tr:nth-child(3) > td > a:nth-child(9)','#dnn_ctr1053_ViewTabs_ctr1070_ModuleContent > div > table > tbody > tr:nth-child(4) > th:nth-child(1)','#dnn_ctr1053_ViewTabs_ctr1070_ModuleContent > div > table > tbody > tr:nth-child(4) > td > a:nth-child(1)','#dnn_ctr1053_ViewTabs_ctr1070_ModuleContent > div > table > tbody > tr:nth-child(4) > td > a:nth-child(2)','#dnn_ctr1053_ViewTabs_ctr1070_ModuleContent > div > table > tbody > tr:nth-child(4) > td > a:nth-child(3)','#dnn_ctr1053_ViewTabs_ctr1070_ModuleContent > div > table > tbody > tr:nth-child(4) > td > a:nth-child(4)','#dnn_ctr1053_ViewTabs_ctr1070_ModuleContent > div > table > tbody > tr:nth-child(4) > td > a:nth-child(5)']\n",
    "for a1 in a1_list:\n",
    "    soup_h_list = html_soup.select_one(a1)\n",
    "    for soup_a in soup_h_list:\n",
    "        print(soup_a.text)"
   ]
  },
  {
   "cell_type": "code",
   "execution_count": 51,
   "metadata": {},
   "outputs": [
    {
     "name": "stdout",
     "output_type": "stream",
     "text": [
      "5 ’ 42 ’ 6 ’ 8 ’ 21 ’ 32 ’ 49 ’ 58 ’ 7 ’ 3 ’ 11 ’ 19 ’ 26 ’ 31 ’ 37 ’ 42 ’ 49 ’ 55 ’ 8 ’ 1 ’ 6 ’ 13 ’ 19 ’ 26\n"
     ]
    }
   ],
   "source": [
    "a1_list = ['#dnn_ctr1053_ViewTabs_ctr1070_ModuleContent > div > table > tbody > tr:nth-child(1) > th:nth-child(1)',\n",
    "           '#dnn_ctr1053_ViewTabs_ctr1070_ModuleContent > div > table > tbody > tr:nth-child(1) > td > a',\n",
    "           '#dnn_ctr1053_ViewTabs_ctr1070_ModuleContent > div > table > tbody > tr:nth-child(2) > th:nth-child(1)',\n",
    "           '#dnn_ctr1053_ViewTabs_ctr1070_ModuleContent > div > table > tbody > tr:nth-child(2) > td > a:nth-child(1)',\n",
    "           '#dnn_ctr1053_ViewTabs_ctr1070_ModuleContent > div > table > tbody > tr:nth-child(2) > td > a:nth-child(2)',\n",
    "           '#dnn_ctr1053_ViewTabs_ctr1070_ModuleContent > div > table > tbody > tr:nth-child(2) > td > a:nth-child(3)',\n",
    "           '#dnn_ctr1053_ViewTabs_ctr1070_ModuleContent > div > table > tbody > tr:nth-child(2) > td > a:nth-child(4)',\n",
    "           '#dnn_ctr1053_ViewTabs_ctr1070_ModuleContent > div > table > tbody > tr:nth-child(2) > td > a:nth-child(5)',\n",
    "           '#dnn_ctr1053_ViewTabs_ctr1070_ModuleContent > div > table > tbody > tr:nth-child(3) > th:nth-child(1)',\n",
    "           '#dnn_ctr1053_ViewTabs_ctr1070_ModuleContent > div > table > tbody > tr:nth-child(3) > td > a:nth-child(1)',\n",
    "           '#dnn_ctr1053_ViewTabs_ctr1070_ModuleContent > div > table > tbody > tr:nth-child(3) > td > a:nth-child(2)',\n",
    "           '#dnn_ctr1053_ViewTabs_ctr1070_ModuleContent > div > table > tbody > tr:nth-child(3) > td > a:nth-child(3)',\n",
    "           '#dnn_ctr1053_ViewTabs_ctr1070_ModuleContent > div > table > tbody > tr:nth-child(3) > td > a:nth-child(4)',\n",
    "           '#dnn_ctr1053_ViewTabs_ctr1070_ModuleContent > div > table > tbody > tr:nth-child(3) > td > a:nth-child(5)',\n",
    "           '#dnn_ctr1053_ViewTabs_ctr1070_ModuleContent > div > table > tbody > tr:nth-child(3) > td > a:nth-child(6)',\n",
    "           '#dnn_ctr1053_ViewTabs_ctr1070_ModuleContent > div > table > tbody > tr:nth-child(3) > td > a:nth-child(7)',\n",
    "           '#dnn_ctr1053_ViewTabs_ctr1070_ModuleContent > div > table > tbody > tr:nth-child(3) > td > a:nth-child(8)',\n",
    "           '#dnn_ctr1053_ViewTabs_ctr1070_ModuleContent > div > table > tbody > tr:nth-child(3) > td > a:nth-child(9)',\n",
    "           '#dnn_ctr1053_ViewTabs_ctr1070_ModuleContent > div > table > tbody > tr:nth-child(4) > th:nth-child(1)',\n",
    "           '#dnn_ctr1053_ViewTabs_ctr1070_ModuleContent > div > table > tbody > tr:nth-child(4) > td > a:nth-child(1)',\n",
    "           '#dnn_ctr1053_ViewTabs_ctr1070_ModuleContent > div > table > tbody > tr:nth-child(4) > td > a:nth-child(2)',\n",
    "           '#dnn_ctr1053_ViewTabs_ctr1070_ModuleContent > div > table > tbody > tr:nth-child(4) > td > a:nth-child(3)',\n",
    "           '#dnn_ctr1053_ViewTabs_ctr1070_ModuleContent > div > table > tbody > tr:nth-child(4) > td > a:nth-child(4)',\n",
    "           '#dnn_ctr1053_ViewTabs_ctr1070_ModuleContent > div > table > tbody > tr:nth-child(4) > td > a:nth-child(5)']\n",
    "\n",
    "# 空のリストを用意\n",
    "data_list = []\n",
    "\n",
    "for a1 in a1_list:\n",
    "    soup_a = html_soup.select_one(a1)\n",
    "    if soup_a:\n",
    "        data_list.append(soup_a.text)\n",
    "    else:\n",
    "        data_list.append(\"N/A\")\n",
    "\n",
    "# リストを横に連結して表示\n",
    "print(' ’ '.join(data_list))\n"
   ]
  }
 ],
 "metadata": {
  "kernelspec": {
   "display_name": "Python 3",
   "language": "python",
   "name": "python3"
  },
  "language_info": {
   "codemirror_mode": {
    "name": "ipython",
    "version": 3
   },
   "file_extension": ".py",
   "mimetype": "text/x-python",
   "name": "python",
   "nbconvert_exporter": "python",
   "pygments_lexer": "ipython3",
   "version": "3.11.5"
  }
 },
 "nbformat": 4,
 "nbformat_minor": 2
}
