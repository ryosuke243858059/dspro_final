{
 "cells": [
  {
   "cell_type": "code",
   "execution_count": 1,
   "metadata": {},
   "outputs": [],
   "source": [
    "from bs4 import BeautifulSoup\n",
    "import requests"
   ]
  },
  {
   "cell_type": "code",
   "execution_count": 2,
   "metadata": {},
   "outputs": [],
   "source": [
    "url = 'https://www.twr.co.jp/route/tabid/119/Default.aspx'\n",
    "r = r = requests.get(url)"
   ]
  },
  {
   "cell_type": "code",
   "execution_count": 3,
   "metadata": {},
   "outputs": [],
   "source": [
    "url = 'https://www.twr.co.jp/route/tabid/119/Default.aspx'\n",
    "r = requeｓts.get(url)"
   ]
  },
  {
   "cell_type": "code",
   "execution_count": 4,
   "metadata": {},
   "outputs": [
    {
     "name": "stdout",
     "output_type": "stream",
     "text": [
      "<class 'bs4.BeautifulSoup'>\n"
     ]
    }
   ],
   "source": [
    "html_soup = BeautifulSoup(r.text,'html.parser')\n",
    "print(type(html_soup))"
   ]
  },
  {
   "cell_type": "code",
   "execution_count": 44,
   "metadata": {},
   "outputs": [
    {
     "name": "stdout",
     "output_type": "stream",
     "text": [
      "5\n",
      "42\n",
      "6\n",
      "8\n",
      "21\n",
      "32\n",
      "49\n",
      "58\n",
      "7\n",
      "3\n",
      "11\n",
      "19\n",
      "26\n",
      "31\n",
      "37\n",
      "42\n",
      "49\n",
      "55\n",
      "8\n",
      "1\n",
      "6\n",
      "13\n",
      "19\n",
      "26\n"
     ]
    }
   ],
   "source": [
    "\n",
    "\n",
    "a1_list = ['#dnn_ctr1053_ViewTabs_ctr1070_ModuleContent > div > table > tbody > tr:nth-child(1) > th:nth-child(1)','#dnn_ctr1053_ViewTabs_ctr1070_ModuleContent > div > table > tbody > tr:nth-child(1) > td > a','#dnn_ctr1053_ViewTabs_ctr1070_ModuleContent > div > table > tbody > tr:nth-child(2) > th:nth-child(1)','#dnn_ctr1053_ViewTabs_ctr1070_ModuleContent > div > table > tbody > tr:nth-child(2) > td > a:nth-child(1)','#dnn_ctr1053_ViewTabs_ctr1070_ModuleContent > div > table > tbody > tr:nth-child(2) > td > a:nth-child(2)','#dnn_ctr1053_ViewTabs_ctr1070_ModuleContent > div > table > tbody > tr:nth-child(2) > td > a:nth-child(3)','#dnn_ctr1053_ViewTabs_ctr1070_ModuleContent > div > table > tbody > tr:nth-child(2) > td > a:nth-child(4)','#dnn_ctr1053_ViewTabs_ctr1070_ModuleContent > div > table > tbody > tr:nth-child(2) > td > a:nth-child(5)','#dnn_ctr1053_ViewTabs_ctr1070_ModuleContent > div > table > tbody > tr:nth-child(3) > th:nth-child(1)','#dnn_ctr1053_ViewTabs_ctr1070_ModuleContent > div > table > tbody > tr:nth-child(3) > td > a:nth-child(1)','#dnn_ctr1053_ViewTabs_ctr1070_ModuleContent > div > table > tbody > tr:nth-child(3) > td > a:nth-child(2)','#dnn_ctr1053_ViewTabs_ctr1070_ModuleContent > div > table > tbody > tr:nth-child(3) > td > a:nth-child(3)','#dnn_ctr1053_ViewTabs_ctr1070_ModuleContent > div > table > tbody > tr:nth-child(3) > td > a:nth-child(4)','#dnn_ctr1053_ViewTabs_ctr1070_ModuleContent > div > table > tbody > tr:nth-child(3) > td > a:nth-child(5)','#dnn_ctr1053_ViewTabs_ctr1070_ModuleContent > div > table > tbody > tr:nth-child(3) > td > a:nth-child(6)','#dnn_ctr1053_ViewTabs_ctr1070_ModuleContent > div > table > tbody > tr:nth-child(3) > td > a:nth-child(7)','#dnn_ctr1053_ViewTabs_ctr1070_ModuleContent > div > table > tbody > tr:nth-child(3) > td > a:nth-child(8)','#dnn_ctr1053_ViewTabs_ctr1070_ModuleContent > div > table > tbody > tr:nth-child(3) > td > a:nth-child(9)','#dnn_ctr1053_ViewTabs_ctr1070_ModuleContent > div > table > tbody > tr:nth-child(4) > th:nth-child(1)','#dnn_ctr1053_ViewTabs_ctr1070_ModuleContent > div > table > tbody > tr:nth-child(4) > td > a:nth-child(1)','#dnn_ctr1053_ViewTabs_ctr1070_ModuleContent > div > table > tbody > tr:nth-child(4) > td > a:nth-child(2)','#dnn_ctr1053_ViewTabs_ctr1070_ModuleContent > div > table > tbody > tr:nth-child(4) > td > a:nth-child(3)','#dnn_ctr1053_ViewTabs_ctr1070_ModuleContent > div > table > tbody > tr:nth-child(4) > td > a:nth-child(4)','#dnn_ctr1053_ViewTabs_ctr1070_ModuleContent > div > table > tbody > tr:nth-child(4) > td > a:nth-child(5)']\n",
    "for a1 in a1_list:\n",
    "    soup_h_list = html_soup.select_one(a1)\n",
    "    for soup_a in soup_h_list:\n",
    "        print(soup_a.text)"
   ]
  }
 ],
 "metadata": {
  "kernelspec": {
   "display_name": "Python 3",
   "language": "python",
   "name": "python3"
  },
  "language_info": {
   "codemirror_mode": {
    "name": "ipython",
    "version": 3
   },
   "file_extension": ".py",
   "mimetype": "text/x-python",
   "name": "python",
   "nbconvert_exporter": "python",
   "pygments_lexer": "ipython3",
   "version": "3.11.5"
  }
 },
 "nbformat": 4,
 "nbformat_minor": 2
}
