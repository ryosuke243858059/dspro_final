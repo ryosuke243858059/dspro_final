{
 "cells": [
  {
   "cell_type": "code",
   "execution_count": 111,
   "metadata": {},
   "outputs": [],
   "source": [
    "from bs4 import BeautifulSoup\n",
    "import requests\n",
    "import time"
   ]
  },
  {
   "cell_type": "code",
   "execution_count": 112,
   "metadata": {},
   "outputs": [],
   "source": [
    "url = 'https://www.twr.co.jp/route/tabid/119/Default.aspx'\n",
    "r = requests.get(url)"
   ]
  },
  {
   "cell_type": "code",
   "execution_count": 113,
   "metadata": {},
   "outputs": [
    {
     "name": "stdout",
     "output_type": "stream",
     "text": [
      "<class 'bs4.BeautifulSoup'>\n"
     ]
    }
   ],
   "source": [
    "html_soup = BeautifulSoup(r.text,'html.parser')\n",
    "print(type(html_soup))"
   ]
  },
  {
   "cell_type": "code",
   "execution_count": 114,
   "metadata": {},
   "outputs": [
    {
     "name": "stdout",
     "output_type": "stream",
     "text": [
      "5\n",
      "6\n",
      "7\n",
      "8\n"
     ]
    }
   ],
   "source": [
    "a1_list = ['#dnn_ctr1053_ViewTabs_ctr1070_ModuleContent > div > table > tbody > tr:nth-child(1) > th:nth-child(1)',\n",
    "           '#dnn_ctr1053_ViewTabs_ctr1070_ModuleContent > div > table > tbody > tr:nth-child(2) > th:nth-child(1)',\n",
    "           '#dnn_ctr1053_ViewTabs_ctr1070_ModuleContent > div > table > tbody > tr:nth-child(3) > th:nth-child(1)',\n",
    "           '#dnn_ctr1053_ViewTabs_ctr1070_ModuleContent > div > table > tbody > tr:nth-child(4) > th:nth-child(1)',]\n",
    "for a1 in a1_list:\n",
    "    soup_a = html_soup.select_one(a1)\n",
    "    if soup_a:\n",
    "        time.sleep(1)\n",
    "        print(soup_a.text)\n",
    "    else:\n",
    "        print(\"No matching element for selector:\", a1)\n"
   ]
  },
  {
   "cell_type": "code",
   "execution_count": 107,
   "metadata": {},
   "outputs": [
    {
     "name": "stdout",
     "output_type": "stream",
     "text": [
      "42\n",
      "8\n",
      "21\n",
      "32\n",
      "49\n",
      "58\n",
      "3\n",
      "11\n",
      "19\n",
      "26\n",
      "31\n",
      "37\n",
      "42\n",
      "49\n",
      "55\n",
      "1\n",
      "6\n",
      "13\n",
      "19\n",
      "26\n"
     ]
    }
   ],
   "source": [
    "import time\n",
    "a2_list = ['#dnn_ctr1053_ViewTabs_ctr1070_ModuleContent > div > table > tbody > tr:nth-child(1) > td > a',\n",
    "           '#dnn_ctr1053_ViewTabs_ctr1070_ModuleContent > div > table > tbody > tr:nth-child(2) > td > a:nth-child(1)',\n",
    "           '#dnn_ctr1053_ViewTabs_ctr1070_ModuleContent > div > table > tbody > tr:nth-child(2) > td > a:nth-child(2)',\n",
    "           '#dnn_ctr1053_ViewTabs_ctr1070_ModuleContent > div > table > tbody > tr:nth-child(2) > td > a:nth-child(3)',\n",
    "           '#dnn_ctr1053_ViewTabs_ctr1070_ModuleContent > div > table > tbody > tr:nth-child(2) > td > a:nth-child(4)',\n",
    "           '#dnn_ctr1053_ViewTabs_ctr1070_ModuleContent > div > table > tbody > tr:nth-child(2) > td > a:nth-child(5)',\n",
    "           '#dnn_ctr1053_ViewTabs_ctr1070_ModuleContent > div > table > tbody > tr:nth-child(3) > td > a:nth-child(1)',\n",
    "           '#dnn_ctr1053_ViewTabs_ctr1070_ModuleContent > div > table > tbody > tr:nth-child(3) > td > a:nth-child(2)',\n",
    "           '#dnn_ctr1053_ViewTabs_ctr1070_ModuleContent > div > table > tbody > tr:nth-child(3) > td > a:nth-child(3)',\n",
    "           '#dnn_ctr1053_ViewTabs_ctr1070_ModuleContent > div > table > tbody > tr:nth-child(3) > td > a:nth-child(4)',\n",
    "           '#dnn_ctr1053_ViewTabs_ctr1070_ModuleContent > div > table > tbody > tr:nth-child(3) > td > a:nth-child(5)',\n",
    "           '#dnn_ctr1053_ViewTabs_ctr1070_ModuleContent > div > table > tbody > tr:nth-child(3) > td > a:nth-child(6)',\n",
    "           '#dnn_ctr1053_ViewTabs_ctr1070_ModuleContent > div > table > tbody > tr:nth-child(3) > td > a:nth-child(7)',\n",
    "           '#dnn_ctr1053_ViewTabs_ctr1070_ModuleContent > div > table > tbody > tr:nth-child(3) > td > a:nth-child(8)',\n",
    "           '#dnn_ctr1053_ViewTabs_ctr1070_ModuleContent > div > table > tbody > tr:nth-child(3) > td > a:nth-child(9)',\n",
    "           '#dnn_ctr1053_ViewTabs_ctr1070_ModuleContent > div > table > tbody > tr:nth-child(4) > td > a:nth-child(1)',\n",
    "           '#dnn_ctr1053_ViewTabs_ctr1070_ModuleContent > div > table > tbody > tr:nth-child(4) > td > a:nth-child(2)',\n",
    "           '#dnn_ctr1053_ViewTabs_ctr1070_ModuleContent > div > table > tbody > tr:nth-child(4) > td > a:nth-child(3)',\n",
    "           '#dnn_ctr1053_ViewTabs_ctr1070_ModuleContent > div > table > tbody > tr:nth-child(4) > td > a:nth-child(4)',\n",
    "           '#dnn_ctr1053_ViewTabs_ctr1070_ModuleContent > div > table > tbody > tr:nth-child(4) > td > a:nth-child(5)']\n",
    "\n",
    "for a2 in a2_list:\n",
    "    time.sleep(1)\n",
    "    soup_b = html_soup.select_one(a2)\n",
    "    if soup_b:\n",
    "        print(soup_b.text)\n",
    "    else:\n",
    "        print(\"No matching element for selector:\", a1)\n"
   ]
  },
  {
   "cell_type": "code",
   "execution_count": 110,
   "metadata": {},
   "outputs": [
    {
     "name": "stdout",
     "output_type": "stream",
     "text": [
      "<a href=\"/Portals/0/resources/route/traindetail2023/traindetail_0661.html\" target=\"_blank\">26</a>\n"
     ]
    }
   ],
   "source": [
    "print(soup_b)"
   ]
  },
  {
   "cell_type": "code",
   "execution_count": 106,
   "metadata": {},
   "outputs": [],
   "source": [
    "import sqlite3\n",
    "import time\n",
    "\n",
    "# SQLite データベースとテーブルを作成\n",
    "conn = sqlite3.connect('your_database.db')\n",
    "cursor = conn.cursor()\n",
    "\n",
    "# テーブル1: soup_a_text\n",
    "cursor.execute('''\n",
    "    CREATE TABLE IF NOT EXISTS soup_a_data (\n",
    "        id INTEGER PRIMARY KEY AUTOINCREMENT,\n",
    "        soup_a_text TEXT\n",
    "    )\n",
    "''')\n",
    "\n",
    "# テーブル2: soup_b_text\n",
    "cursor.execute('''\n",
    "    CREATE TABLE IF NOT EXISTS soup_b_data (\n",
    "        id INTEGER PRIMARY KEY AUTOINCREMENT,\n",
    "        soup_b_text TEXT\n",
    "    )\n",
    "''')\n",
    "\n",
    "# 変更をコミットして接続を閉じる\n",
    "conn.commit()\n",
    "conn.close()\n",
    "\n",
    "# ループ内でデータをデータベースに挿入\n",
    "for a1, a2 in zip(a1_list, a2_list):\n",
    "    soup_a = html_soup.select_one(a1)\n",
    "    soup_b = html_soup.select_one(a2)\n",
    "\n",
    "    # soup_a が見つかった場合\n",
    "    if soup_a:\n",
    "        # 新しい接続を開く\n",
    "        conn = sqlite3.connect('your_database.db')\n",
    "        cursor = conn.cursor()\n",
    "\n",
    "        # テーブル1にデータを挿入\n",
    "        cursor.execute('INSERT INTO soup_a_data (soup_a_text) VALUES (?)', (soup_a.text,))\n",
    "\n",
    "        # 変更をコミットして接続を閉じる\n",
    "        conn.commit()\n",
    "        conn.close()\n",
    "\n",
    "    # soup_b が見つかった場合\n",
    "    if soup_b:\n",
    "        # 新しい接続を開く\n",
    "        conn = sqlite3.connect('your_database.db')\n",
    "        cursor = conn.cursor()\n",
    "\n",
    "        # テーブル2にデータを挿入\n",
    "        cursor.execute('INSERT INTO soup_b_data (soup_b_text) VALUES (?)', (soup_b.text,))\n",
    "\n",
    "        # 変更をコミットして接続を閉じる\n",
    "        conn.commit()\n",
    "        conn.close()\n",
    "\n",
    "        time.sleep(1)  # 1秒待機\n",
    "    else:\n",
    "        print(\"セレクターに一致する要素が見つかりませんでした:\", a1, a2)\n"
   ]
  },
  {
   "cell_type": "code",
   "execution_count": 83,
   "metadata": {},
   "outputs": [],
   "source": [
    "import sqlite3\n",
    "import pandas as pd\n",
    "db_name = \"mokoko.db\"\n",
    "conn = sqlite3.connect(db_name)"
   ]
  },
  {
   "cell_type": "code",
   "execution_count": 123,
   "metadata": {},
   "outputs": [
    {
     "name": "stdout",
     "output_type": "stream",
     "text": [
      "['\\ufeff', 'Time of woke up', 'Morning bath (分)']\n",
      "['12月18日', '9:12', '12']\n",
      "['12月19日', '7:10', '20']\n",
      "['12月20日', '8:30', '23']\n",
      "['12月21日', '6:00', '23']\n",
      "['12月22日', '7:00', '26']\n",
      "['12月23日', '10:26', '18']\n",
      "['12月24日', '10:30', '0']\n",
      "['12月25日', '9:09', '47']\n",
      "['12月26日', '10:34', '14']\n",
      "['12月27日', '10:37', '24']\n",
      "['12月28日', '7:10', '26']\n",
      "['12月29日', '11:00', '0']\n",
      "['12月30日', '11:12', '20']\n",
      "['12月31日', '11:00', '24']\n",
      "['1月1日', '12:16', '17']\n",
      "['1月2日', '11:00', '16']\n",
      "['1月3日', '11:11', '0']\n",
      "['1月4日', '10:45', '26']\n",
      "['1月5日', '10:23', '0']\n",
      "['1月6日', '11:03', '15']\n",
      "['1月7日', '11:40', '23']\n",
      "['1月8日', '12:24', '0']\n",
      "['1月9日', '11:05', '19']\n"
     ]
    }
   ],
   "source": [
    "import csv\n",
    "\n",
    "# CSVファイルのパス\n",
    "csv_file_path = 'Book1.csv'\n",
    "\n",
    "# CSVファイルを読み込む\n",
    "with open(csv_file_path, 'r', encoding='utf-8') as file:\n",
    "    reader = csv.reader(file)\n",
    "\n",
    "    # ヘッダーをスキップする場合\n",
    "    # next(reader)\n",
    "\n",
    "    # 各行のデータを表示\n",
    "    for row in reader:\n",
    "        print(row)\n",
    "        "
   ]
  },
  {
   "cell_type": "code",
   "execution_count": 124,
   "metadata": {},
   "outputs": [],
   "source": [
    "import csv\n",
    "import sqlite3\n",
    "\n",
    "# CSVファイルのパス\n",
    "csv_file_path = 'Book1.csv'\n",
    "\n",
    "# データベースファイルへのパス（このファイルがなければ新規作成されます）\n",
    "db_file_path = 'my_data.db'\n",
    "\n",
    "# データベースへの接続\n",
    "conn = sqlite3.connect(db_file_path)\n",
    "c = conn.cursor()\n",
    "\n",
    "# テーブルの作成（すでに存在している場合は何もしない）\n",
    "c.execute('''\n",
    "CREATE TABLE IF NOT EXISTS my_table (\n",
    "    date TEXT,\n",
    "    wake_up_time TEXT,\n",
    "    morning_bath_time TEXT\n",
    ")\n",
    "''')\n",
    "\n",
    "# CSVファイルを開いて内容をデータベースに挿入\n",
    "with open(csv_file_path, 'r', encoding='utf-8-sig') as file:\n",
    "    reader = csv.reader(file)\n",
    "\n",
    "    # ヘッダー行をスキップ（最初の行がヘッダーである場合）\n",
    "    next(reader, None)  # ヘッダーを読み飛ばす\n",
    "\n",
    "    # 各行についてデータベースに挿入\n",
    "    for row in reader:\n",
    "        # 行のデータをデータベースに挿入\n",
    "        c.execute('INSERT INTO my_table (date, wake_up_time, morning_bath_time) VALUES (?, ?, ?)', row)\n",
    "\n",
    "# 変更をコミットして接続を閉じる\n",
    "conn.commit()\n",
    "conn.close()\n"
   ]
  }
 ],
 "metadata": {
  "kernelspec": {
   "display_name": "Python 3",
   "language": "python",
   "name": "python3"
  },
  "language_info": {
   "codemirror_mode": {
    "name": "ipython",
    "version": 3
   },
   "file_extension": ".py",
   "mimetype": "text/x-python",
   "name": "python",
   "nbconvert_exporter": "python",
   "pygments_lexer": "ipython3",
   "version": "3.11.5"
  }
 },
 "nbformat": 4,
 "nbformat_minor": 2
}
